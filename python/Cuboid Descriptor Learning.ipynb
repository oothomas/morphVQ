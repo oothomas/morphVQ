{
 "cells": [
  {
   "cell_type": "code",
   "execution_count": null,
   "outputs": [],
   "source": [
    "import scipy.io as sio\n",
    "\n",
    "\n",
    "from IPython.display import clear_output\n",
    "\n",
    "import torch\n",
    "\n",
    "from torch_geometric.data import DataLoader\n",
    "import torch_geometric.transforms as T\n",
    "\n",
    "# Dataset Function\n",
    "from datasets import CuboidDataset\n",
    "\n",
    "from models.HarmonicResNet import SiameseHSN\n",
    "\n",
    "# Transforms\n",
    "from transforms import (VectorHeat, MultiscaleRadiusGraph)"
   ],
   "metadata": {
    "collapsed": false,
    "pycharm": {
     "name": "#%%\n"
    }
   }
  },
  {
   "cell_type": "code",
   "execution_count": null,
   "metadata": {},
   "outputs": [],
   "source": [
    "device = torch.device('cuda')"
   ]
  },
  {
   "cell_type": "code",
   "execution_count": null,
   "metadata": {},
   "outputs": [],
   "source": [
    "# Ratios used for pooling\n",
    "ratios=[1, 0.5, 0.25, 0.1]\n",
    "\n",
    "# Radii\n",
    "radii = [0.1, 0.2, 0.4, 0.8]\n",
    "\n",
    "# 2. Define transformations to be performed on the dataset:\n",
    "# Transformation that computes a multi-scale radius graph and precomputes the logarithmic map.\n",
    "pre_transform = T.Compose((\n",
    "    MultiscaleRadiusGraph(ratios, radii, 256, loop=True, flow='target_to_source'),\n",
    "    VectorHeat())\n",
    ")"
   ]
  },
  {
   "cell_type": "code",
   "execution_count": null,
   "metadata": {
    "scrolled": false
   },
   "outputs": [],
   "source": [
    "dataset = CuboidDataset(root = 'data/DeepCuboidSeg12K/', pre_transform=pre_transform)\n",
    "loader = DataLoader(dataset,batch_size=1)"
   ]
  },
  {
   "cell_type": "code",
   "execution_count": null,
   "metadata": {},
   "outputs": [],
   "source": [
    "# Move the network to the GPU\n",
    "model = SiameseHSN().to(device)\n",
    "\n",
    "# Set up the ADAM optimizer with learning rate\n",
    "optimizer = torch.optim.Adam(model.parameters(), lr=0.0001)"
   ]
  },
  {
   "cell_type": "code",
   "execution_count": null,
   "metadata": {},
   "outputs": [],
   "source": [
    "loss_template = \"Mini-Batch: {} Loss {:f}, E1: {:f}, E2: {:f}, E3: {:f}, E4: {:f}\"  #"
   ]
  },
  {
   "cell_type": "code",
   "execution_count": null,
   "metadata": {
    "scrolled": false
   },
   "outputs": [],
   "source": [
    "model.train()"
   ]
  },
  {
   "cell_type": "code",
   "execution_count": null,
   "metadata": {
    "scrolled": false
   },
   "outputs": [],
   "source": [
    "for epoch in range(50):\n",
    "    clear_output()\n",
    "    batch = 0\n",
    "    for data in loader:\n",
    "        C12, C21, src_feat, tar_feat, src_verts, tar_verts, E1, E2, E3, E4, P12, P21  = model(data[0], data[1])\n",
    "        \n",
    "        final_loss = E1+E2+E3+E4\n",
    "        final_loss.backward()\n",
    "        optimizer.step()\n",
    "        \n",
    "        print(loss_template.format(batch, final_loss,E1, E2, E3, E4))\n",
    "        if batch % 10 == 0:\n",
    "            mat_dict = dict(F=src_feat.cpu().detach().numpy(),\n",
    "                            G=tar_feat.cpu().detach().numpy(),\n",
    "                            P_est_AB=P12.cpu().detach().numpy(),\n",
    "                            P_est_BA=P21.cpu().detach().numpy(),\n",
    "                            src_names=data[0].name[0],\n",
    "                            tar_names=data[1].name[0],\n",
    "                            src_vertices=src_verts.cpu().detach().numpy(),\n",
    "                            tar_vertices=tar_verts.cpu().detach().numpy(),\n",
    "                            C_est_AB=C12.cpu().detach().numpy(),\n",
    "                            C_est_BA=C21.cpu().detach().numpy())\n",
    "\n",
    "            mat_filename = 'map_' + str(batch) + \".mat\"\n",
    "            sio.savemat(mat_filename, mat_dict)\n",
    "        \n",
    "        batch += 1"
   ]
  },
  {
   "cell_type": "code",
   "execution_count": null,
   "metadata": {},
   "outputs": [],
   "source": []
  },
  {
   "cell_type": "code",
   "execution_count": null,
   "metadata": {},
   "outputs": [],
   "source": []
  },
  {
   "cell_type": "code",
   "execution_count": null,
   "metadata": {},
   "outputs": [],
   "source": []
  }
 ],
 "metadata": {
  "kernelspec": {
   "display_name": "Python (pytorch)",
   "language": "python",
   "name": "pytorch"
  },
  "language_info": {
   "codemirror_mode": {
    "name": "ipython",
    "version": 3
   },
   "file_extension": ".py",
   "mimetype": "text/x-python",
   "name": "python",
   "nbconvert_exporter": "python",
   "pygments_lexer": "ipython3",
   "version": "3.6.12"
  },
  "pycharm": {
   "stem_cell": {
    "cell_type": "raw",
    "source": [],
    "metadata": {
     "collapsed": false
    }
   }
  }
 },
 "nbformat": 4,
 "nbformat_minor": 4
}
