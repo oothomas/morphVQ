{
 "cells": [
  {
   "cell_type": "code",
   "execution_count": 1,
   "metadata": {},
   "outputs": [
    {
     "data": {
      "text/html": [
       "<style>.container { width:100% !important; }</style>"
      ],
      "text/plain": [
       "<IPython.core.display.HTML object>"
      ]
     },
     "metadata": {},
     "output_type": "display_data"
    }
   ],
   "source": [
    "from IPython.core.display import display, HTML\n",
    "display(HTML(\"<style>.container { width:100% !important; }</style>\"))"
   ]
  },
  {
   "cell_type": "code",
   "execution_count": 2,
   "metadata": {},
   "outputs": [],
   "source": [
    "import numpy as np\n",
    "import scipy as sp\n",
    "import pandas as pd\n",
    "import scipy.io as sio\n",
    "\n",
    "import copy\n",
    "\n",
    "from sklearn.cluster import KMeans\n",
    "from sklearn.preprocessing import StandardScaler\n",
    "from sklearn.utils import resample\n",
    "from sklearn.decomposition import PCA\n",
    "\n",
    "import matplotlib.pyplot as plt\n",
    "\n",
    "from sklearn.metrics import classification_report\n",
    "from sklearn.metrics import confusion_matrix\n",
    "from sklearn.metrics import precision_recall_fscore_support"
   ]
  },
  {
   "cell_type": "code",
   "execution_count": 3,
   "metadata": {},
   "outputs": [],
   "source": [
    "data = sio.loadmat(\"lssd_pca_118.mat\")\n",
    "\n",
    "names = [name[0][0] for name in data['names']]\n",
    "names_df = pd.DataFrame([name.split('_') for name in names], columns=['Genus', 'Catalog_No', '1','2']).iloc[:,:2]\n",
    "names_df['ID'] = names\n",
    "\n",
    "hominoids = pd.read_csv('hominoid_procrustes_coordinates.csv')\n",
    "hominoids = hominoids[hominoids['ID'].isin(names)]\n",
    "new_names = hominoids[hominoids['ID'].isin(names)]['ID']\n",
    "hominoids = hominoids.set_index('ID')\n",
    "\n",
    "hominoid_landmarks = pd.read_csv('Cuboid_21L_coords.csv')\n",
    "hominoid_landmarks = hominoid_landmarks[hominoid_landmarks['ID'].isin(new_names)]\n",
    "hominoid_landmarks = hominoid_landmarks.set_index('ID')\n",
    "\n",
    "auto3dgm = pd.read_csv('auto3dgm_procrustes_coordinates_12K_512.csv')\n",
    "auto3dgm = auto3dgm[auto3dgm['ID'].isin(new_names)]\n",
    "auto3dgm = auto3dgm.set_index('ID')\n",
    "\n",
    "area_lssds = pd.concat([names_df, pd.DataFrame(data['area_based'][:,:4900], columns=['L' + str(j) for j in list(range(1,4901))])], axis=1)\n",
    "area_lssds = area_lssds[area_lssds['ID'].isin(new_names)]\n",
    "area_lssds = area_lssds.set_index('ID')\n",
    "\n",
    "conf_lssds = pd.concat([names_df, pd.DataFrame(data['conf_based'][:,:4900], columns=['L' + str(j) for j in list(range(1,4901))])], axis=1)\n",
    "conf_lssds = conf_lssds[conf_lssds['ID'].isin(new_names)]\n",
    "conf_lssds = conf_lssds.set_index('ID')\n",
    "\n",
    "auto3dgm_y = auto3dgm['Genus']\n",
    "hominoid_y = hominoids['Genus']\n",
    "hominoid_landmarks_y = hominoid_landmarks['Genus']\n",
    "area_lssds_y = area_lssds['Genus']\n",
    "conf_lssds_y = conf_lssds['Genus']\n",
    "\n",
    "conf_area_lssds = pd.concat([conf_lssds,area_lssds], axis=1)\n",
    "conf_area_lssds_y = area_lssds['Genus']\n",
    "\n",
    "del area_lssds['Genus']\n",
    "del area_lssds['Catalog_No']\n",
    "del conf_area_lssds['Genus']\n",
    "del conf_area_lssds['Catalog_No']\n",
    "del conf_lssds['Genus']\n",
    "del conf_lssds['Catalog_No']\n",
    "del auto3dgm['Genus']\n",
    "del hominoids['Genus']\n",
    "del hominoid_landmarks['Genus']"
   ]
  },
  {
   "cell_type": "code",
   "execution_count": 4,
   "metadata": {},
   "outputs": [],
   "source": [
    "scaler_area = StandardScaler()\n",
    "scaler_conf = StandardScaler()\n",
    "scaler_auto = StandardScaler()\n",
    "scaler_coords = StandardScaler()\n",
    "scaler_coords2 = StandardScaler()\n",
    "\n",
    "scalar_conf_area = StandardScaler()\n",
    "\n",
    "X_conf_area_scaled = scalar_conf_area.fit_transform(np.array(conf_area_lssds))\n",
    "\n",
    "\n",
    "X_area_scaled = scaler_area.fit_transform(np.array(area_lssds))\n",
    "X_conf_scaled = scaler_conf.fit_transform(np.array(conf_lssds))\n",
    "X_auto_scaled = scaler_area.fit_transform(np.array(auto3dgm))\n",
    "X_coords_scaled = scaler_coords.fit_transform(np.array(hominoids))\n",
    "X_coords2_scaled = scaler_coords2.fit_transform(np.array(hominoid_landmarks))"
   ]
  },
  {
   "cell_type": "code",
   "execution_count": 5,
   "metadata": {},
   "outputs": [],
   "source": [
    "pca_coords = PCA()\n",
    "pca_coords.fit(X_coords_scaled)\n",
    "\n",
    "X_coords = pca_coords.transform(X_coords_scaled)\n",
    "X_coords_pcs = pd.DataFrame(X_coords[:, :27],\n",
    "                          columns=['PC' + str(j) for j in list(range(1,27+1))],\n",
    "                         index=hominoids.index)\n",
    "X_coords_pcs['Genus'] = hominoid_y\n",
    "X_coords_pcs.Genus = pd.Categorical(X_coords_pcs.Genus)\n",
    "X_coords_pcs['Group'] = X_coords_pcs.Genus.cat.codes\n",
    "y_coords_labels = list(X_coords_pcs['Genus'])\n",
    "y_coords = np.array(X_coords_pcs['Group'])\n",
    "\n",
    "pca_coords2 = PCA()\n",
    "pca_coords2.fit(X_coords2_scaled)\n",
    "X_coords2 = pca_coords2.transform(X_coords2_scaled)\n",
    "X_coords2_pcs = pd.DataFrame(X_coords2[:, :27],\n",
    "                          columns=['PC' + str(j) for j in list(range(1,27+1))],\n",
    "                         index=hominoid_landmarks.index)\n",
    "X_coords2_pcs['Genus'] = hominoid_landmarks_y\n",
    "X_coords2_pcs.Genus = pd.Categorical(X_coords2_pcs.Genus)\n",
    "X_coords2_pcs['Group'] = X_coords2_pcs.Genus.cat.codes\n",
    "y_coords2_labels = list(X_coords2_pcs['Genus'])\n",
    "y_coords2 = np.array(X_coords2_pcs['Group'])\n",
    "\n",
    "pca_auto = PCA()\n",
    "pca_auto.fit(X_auto_scaled)\n",
    "X_auto = pca_auto.transform(X_auto_scaled)\n",
    "X_auto_pcs = pd.DataFrame(X_auto[:, :64],\n",
    "                          columns=['PC' + str(j) for j in list(range(1,64+1))],\n",
    "                         index=auto3dgm.index)\n",
    "X_auto_pcs['Genus'] = auto3dgm_y\n",
    "X_auto_pcs.Genus = pd.Categorical(X_auto_pcs.Genus)\n",
    "X_auto_pcs['Group'] = X_auto_pcs.Genus.cat.codes\n",
    "y_auto_labels = list(X_auto_pcs['Genus'])\n",
    "y_auto = np.array(X_auto_pcs['Group'])\n",
    "\n",
    "pca_area = PCA()\n",
    "pca_area.fit(X_area_scaled)\n",
    "X_area = pca_area.transform(X_area_scaled)\n",
    "X_area_pcs = pd.DataFrame(X_area[:,:60],\n",
    "                          columns=['PC' + str(j) for j in list(range(1,60+1))],\n",
    "                         index=area_lssds.index)\n",
    "X_area_pcs['Genus'] = area_lssds_y\n",
    "X_area_pcs.Genus = pd.Categorical(X_area_pcs.Genus)\n",
    "X_area_pcs['Group'] = X_area_pcs.Genus.cat.codes\n",
    "y_area_labels = list(X_area_pcs['Genus'])\n",
    "y_area = np.array(X_area_pcs['Group'])\n",
    "\n",
    "pca_conf = PCA()\n",
    "pca_conf.fit(X_conf_scaled)\n",
    "X_conf = pca_conf.transform(X_conf_scaled)\n",
    "X_conf_pcs = pd.DataFrame(X_conf[:, :59],\n",
    "                          columns=['PC' + str(j) for j in list(range(1,59+1))],\n",
    "                         index=conf_lssds.index)\n",
    "X_conf_pcs['Genus'] = conf_lssds_y\n",
    "X_conf_pcs.Genus = pd.Categorical(X_conf_pcs.Genus)\n",
    "X_conf_pcs['Group'] = X_conf_pcs.Genus.cat.codes\n",
    "y_conf_labels = list(X_conf_pcs['Genus'])\n",
    "y_conf = np.array(X_conf_pcs['Group'])\n",
    "\n",
    "pca_conf_area = PCA()\n",
    "pca_conf_area.fit(X_conf_area_scaled)\n",
    "X_conf_area = pca_conf_area.transform(X_conf_area_scaled)\n",
    "X_conf_area_pcs = pd.DataFrame(X_conf_area[:,:64],\n",
    "                          columns=['PC' + str(j) for j in list(range(1,64+1))],\n",
    "                         index=conf_area_lssds.index)\n",
    "X_conf_area_pcs['Genus'] = conf_area_lssds_y\n",
    "X_conf_area_pcs.Genus = pd.Categorical(X_conf_area_pcs.Genus)\n",
    "X_conf_area_pcs['Group'] = X_conf_area_pcs.Genus.cat.codes\n",
    "y_conf_area_labels = list(X_conf_area_pcs['Genus'])\n",
    "y_conf_area = np.array(X_conf_area_pcs['Group'])"
   ]
  },
  {
   "cell_type": "code",
   "execution_count": 6,
   "metadata": {},
   "outputs": [
    {
     "data": {
      "text/plain": [
       "[16.22357861534604, 13.154779823336757, 7.144706664817085, 5.2384283307485395]"
      ]
     },
     "execution_count": 6,
     "metadata": {},
     "output_type": "execute_result"
    }
   ],
   "source": [
    "[float(i)*100 for i in pca_area.explained_variance_ratio_[0:4]]"
   ]
  },
  {
   "cell_type": "code",
   "execution_count": 7,
   "metadata": {},
   "outputs": [
    {
     "data": {
      "text/plain": [
       "[21.823467475891576, 15.85473945827853, 7.671241021514845, 5.217763426152885]"
      ]
     },
     "execution_count": 7,
     "metadata": {},
     "output_type": "execute_result"
    }
   ],
   "source": [
    "[float(i)*100 for i in pca_conf.explained_variance_ratio_[0:4]]"
   ]
  },
  {
   "cell_type": "code",
   "execution_count": 8,
   "metadata": {
    "scrolled": false
   },
   "outputs": [
    {
     "data": {
      "text/plain": [
       "(0.0, 0.4)"
      ]
     },
     "execution_count": 8,
     "metadata": {},
     "output_type": "execute_result"
    },
    {
     "data": {
      "image/png": "[encoded data removed]",
      "text/plain": [
       "<Figure size 1400x1400 with 4 Axes>"
      ]
     },
     "metadata": {
      "needs_background": "light"
     },
     "output_type": "display_data"
    }
   ],
   "source": [
    "fig, axs = plt.subplots(2, 2, figsize=(7,7), dpi=200)\n",
    "fig.suptitle('PCA % Variance')\n",
    "\n",
    "features = range(20)\n",
    "axs[0, 0].bar(features, pca_coords.explained_variance_ratio_[:20], color='black')\n",
    "axs[0, 0].set_title('Semilandmark Patches')\n",
    "axs[0, 0].set_ylim(0,0.4)\n",
    "axs[0, 0].set_ylabel('% Variance')\n",
    "axs[0, 1].bar(features, pca_auto.explained_variance_ratio_[:20], color='black')\n",
    "axs[0, 1].set_ylim(0,0.4)\n",
    "axs[0, 1].set_title('Auto3DGM Pseudolandmarks')\n",
    "axs[1, 0].bar(features, pca_area.explained_variance_ratio_[:20], color='black')\n",
    "axs[1, 0].set_title('Area-Based LSSDs')\n",
    "axs[1, 0].set_ylabel('% Variance')\n",
    "axs[1, 0].set_ylim(0,0.4)\n",
    "axs[1, 0].set_xlabel('Principal component')\n",
    "axs[1, 1].bar(features, pca_conf.explained_variance_ratio_[:20], color='black')\n",
    "axs[1, 1].set_title('Conformal LSSDs')\n",
    "axs[1, 1].set_xlabel('Principal Component')\n",
    "axs[1, 1].set_ylim(0,0.4)\n"
   ]
  },
  {
   "cell_type": "code",
   "execution_count": null,
   "metadata": {},
   "outputs": [],
   "source": [
    "sum_of_squared_distances_coords = []\n",
    "\n",
    "K_coords = range(1,27)\n",
    "for k in K_coords:\n",
    "    k_means = KMeans(n_clusters=k)\n",
    "    model = k_means.fit(X_coords[:, :27])\n",
    "    sum_of_squared_distances_coords.append(np.sqrt(k_means.inertia_/27))\n",
    "\n",
    "sum_of_squared_distances_auto = []\n",
    "\n",
    "K_auto = range(1,64)\n",
    "for k in K_auto:\n",
    "    k_means = KMeans(n_clusters=k)\n",
    "    model = k_means.fit(X_auto[:, :64])\n",
    "    sum_of_squared_distances_auto.append(np.sqrt(k_means.inertia_/52))\n",
    "\n",
    "sum_of_squared_distances_area = []\n",
    "\n",
    "K_area = range(1,60)\n",
    "for k in K_area:\n",
    "    k_means = KMeans(n_clusters=k)\n",
    "    model = k_means.fit(X_area[:,:60])\n",
    "    sum_of_squared_distances_area.append(np.sqrt(k_means.inertia_/60))\n",
    "    \n",
    "sum_of_squared_distances_conf = []\n",
    "\n",
    "K_conf = range(1,59)\n",
    "for k in K_conf:\n",
    "    k_means = KMeans(n_clusters=k)\n",
    "    model = k_means.fit(X_conf[:, :59])\n",
    "    sum_of_squared_distances_conf.append(np.sqrt(k_means.inertia_/59))\n",
    "    \n",
    "sum_of_squared_distances_conf_area = []\n",
    "\n",
    "K_conf_area = range(1,64)\n",
    "for k in K_conf_area:\n",
    "    k_means = KMeans(n_clusters=k)\n",
    "    model = k_means.fit(X_conf_area[:, :64])\n",
    "    sum_of_squared_distances_conf_area.append(np.sqrt(k_means.inertia_/64))"
   ]
  },
  {
   "cell_type": "code",
   "execution_count": null,
   "metadata": {
    "scrolled": false
   },
   "outputs": [],
   "source": [
    "fig, axs = plt.subplots(2, 2, figsize=(7,7), dpi=200)\n",
    "fig.suptitle('Elbow Method for Optimal k')\n",
    "\n",
    "features = range(20)\n",
    "axs[0, 0].set_title('Semilandmark Patches')\n",
    "axs[0, 0].plot(K_coords, sum_of_squared_distances_coords, 'bx-')\n",
    "axs[0, 0].set_ylabel('Inertia*')\n",
    "axs[0, 0].scatter(5, sum_of_squared_distances_coords[4], color='r', s=60)\n",
    "axs[0, 1].set_title('Auto3DGM Pseudolandmarks')\n",
    "axs[0, 1].plot(K_auto, sum_of_squared_distances_auto, 'bx-')\n",
    "axs[0, 1].scatter(5, sum_of_squared_distances_auto[4], color='r', s=60)\n",
    "axs[1, 0].plot(K_area, sum_of_squared_distances_area, 'bx-')\n",
    "axs[1, 0].scatter(5, sum_of_squared_distances_area[4], color='r', s=60)\n",
    "axs[1, 0].set_title('Area-Based LSSDs')\n",
    "axs[1, 0].set_ylabel('Inertia*')\n",
    "axs[1, 0].set_xlabel('k')\n",
    "axs[1, 1].plot(K_conf, sum_of_squared_distances_conf, 'bx-')\n",
    "axs[1, 1].scatter(5, sum_of_squared_distances_conf[4], color='r', s=60)\n",
    "axs[1, 1].set_title('Conformal LSSDs')\n",
    "axs[1, 1].set_xlabel('k')"
   ]
  },
  {
   "cell_type": "code",
   "execution_count": 51,
   "metadata": {},
   "outputs": [
    {
     "data": {
      "text/plain": [
       "array([0, 0, 0, 0, 0, 0, 0, 0, 0, 0, 0, 4, 4, 4, 4, 4, 4, 4, 4, 4, 4, 4,\n",
       "       4, 4, 4, 4, 4, 4, 4, 4, 4, 4, 4, 4, 4, 4, 4, 4, 4, 4, 4, 4, 4, 4,\n",
       "       4, 3, 3, 3, 3, 3, 3, 3, 3, 3, 3, 3, 3, 3, 3, 3, 3, 3, 3, 0, 2, 2,\n",
       "       0, 2, 0, 2, 2, 0, 0, 1, 0, 0, 0, 0, 2, 1, 0, 2, 0, 1, 2, 1, 2, 1,\n",
       "       1, 1, 1, 1, 1, 1, 1, 1, 1, 1, 2, 1, 1, 1])"
      ]
     },
     "execution_count": 51,
     "metadata": {},
     "output_type": "execute_result"
    }
   ],
   "source": [
    "k_means = KMeans(n_clusters=5, random_state=0)\n",
    "model_coords = k_means.fit(X_coords[:, :27], y_coords)\n",
    "k_means.labels_"
   ]
  },
  {
   "cell_type": "code",
   "execution_count": 52,
   "metadata": {},
   "outputs": [
    {
     "data": {
      "text/plain": [
       "array([0, 0, 0, 0, 0, 0, 0, 0, 0, 0, 0, 1, 1, 1, 1, 1, 1, 1, 1, 1, 1, 1,\n",
       "       1, 1, 1, 1, 1, 1, 1, 1, 1, 1, 1, 1, 1, 1, 1, 1, 1, 1, 1, 1, 1, 1,\n",
       "       1, 2, 2, 2, 2, 2, 2, 2, 2, 2, 2, 2, 2, 2, 2, 2, 2, 2, 2, 3, 3, 3,\n",
       "       3, 3, 3, 3, 3, 3, 3, 3, 3, 3, 3, 3, 3, 3, 3, 3, 3, 4, 4, 4, 4, 4,\n",
       "       4, 4, 4, 4, 4, 4, 4, 4, 4, 4, 4, 4, 4, 4], dtype=int8)"
      ]
     },
     "execution_count": 52,
     "metadata": {},
     "output_type": "execute_result"
    }
   ],
   "source": [
    "y_coords"
   ]
  },
  {
   "cell_type": "code",
   "execution_count": 53,
   "metadata": {},
   "outputs": [
    {
     "data": {
      "text/plain": [
       "array([0, 0, 0, 0, 0, 0, 0, 0, 0, 0, 0, 1, 1, 1, 1, 1, 1, 1, 1, 1, 1, 1,\n",
       "       1, 1, 1, 1, 1, 1, 1, 1, 1, 1, 1, 1, 1, 1, 1, 1, 1, 1, 1, 1, 1, 1,\n",
       "       1, 2, 2, 2, 2, 2, 2, 2, 2, 2, 2, 2, 2, 2, 2, 2, 2, 2, 2, 0, 3, 3,\n",
       "       0, 3, 0, 3, 3, 0, 0, 4, 0, 0, 0, 0, 3, 4, 0, 3, 0, 4, 3, 4, 3, 4,\n",
       "       4, 4, 4, 4, 4, 4, 4, 4, 4, 4, 3, 4, 4, 4])"
      ]
     },
     "execution_count": 53,
     "metadata": {},
     "output_type": "execute_result"
    }
   ],
   "source": [
    "re_labels_ = k_means.labels_\n",
    "\n",
    "for i in range(y_coords.shape[0]):\n",
    "    if re_labels_[i] == 0:\n",
    "        re_labels_[i] = 0\n",
    "    elif re_labels_[i] == 1:\n",
    "        re_labels_[i] = 4\n",
    "    elif re_labels_[i] == 2:\n",
    "        re_labels_[i] = 3\n",
    "    elif re_labels_[i] == 3:\n",
    "        re_labels_[i] = 2\n",
    "    else:\n",
    "        re_labels_[i] = 1\n",
    "re_labels_"
   ]
  },
  {
   "cell_type": "code",
   "execution_count": 54,
   "metadata": {},
   "outputs": [
    {
     "name": "stdout",
     "output_type": "stream",
     "text": [
      "              precision    recall  f1-score   support\n",
      "\n",
      "     Gorilla       0.50      1.00      0.67        11\n",
      "        Homo       1.00      1.00      1.00        34\n",
      "   Hylobates       1.00      1.00      1.00        18\n",
      "         Pan       0.70      0.35      0.47        20\n",
      "       Pongo       0.89      0.84      0.86        19\n",
      "\n",
      "    accuracy                           0.84       102\n",
      "   macro avg       0.82      0.84      0.80       102\n",
      "weighted avg       0.87      0.84      0.83       102\n",
      "\n"
     ]
    }
   ],
   "source": [
    "print(classification_report(y_coords,\n",
    "                            re_labels_,\n",
    "                            target_names=['Gorilla', 'Homo', 'Hylobates', 'Pan', 'Pongo']))"
   ]
  },
  {
   "cell_type": "code",
   "execution_count": 55,
   "metadata": {},
   "outputs": [
    {
     "data": {
      "text/plain": [
       "(0.866557734204793, 0.8431372549019608, 0.8343048931284226, None)"
      ]
     },
     "execution_count": 55,
     "metadata": {},
     "output_type": "execute_result"
    }
   ],
   "source": [
    "precision_recall_fscore_support(y_coords, re_labels_, average='weighted')"
   ]
  },
  {
   "cell_type": "code",
   "execution_count": 56,
   "metadata": {},
   "outputs": [
    {
     "data": {
      "text/plain": [
       "array([1, 3, 3, 3, 3, 3, 3, 3, 3, 3, 3, 0, 0, 0, 0, 0, 0, 0, 0, 0, 0, 0,\n",
       "       0, 0, 0, 0, 0, 0, 0, 0, 0, 0, 0, 0, 0, 0, 0, 0, 0, 0, 0, 0, 0, 0,\n",
       "       0, 2, 2, 2, 2, 2, 2, 2, 2, 2, 2, 2, 2, 2, 2, 2, 2, 2, 1, 1, 1, 1,\n",
       "       1, 1, 1, 1, 1, 1, 1, 1, 1, 1, 1, 1, 1, 1, 1, 1, 4, 4, 4, 4, 4, 4,\n",
       "       4, 2, 4, 4, 4, 4, 4, 4, 4, 4, 4, 4, 4, 4])"
      ]
     },
     "execution_count": 56,
     "metadata": {},
     "output_type": "execute_result"
    }
   ],
   "source": [
    "k_means = KMeans(n_clusters=5, random_state=0)\n",
    "model_coords = k_means.fit(X_coords2[:, :27], y_coords2)\n",
    "k_means.labels_"
   ]
  },
  {
   "cell_type": "code",
   "execution_count": 57,
   "metadata": {},
   "outputs": [
    {
     "data": {
      "text/plain": [
       "array([0, 0, 0, 0, 0, 0, 0, 0, 0, 0, 0, 1, 1, 1, 1, 1, 1, 1, 1, 1, 1, 1,\n",
       "       1, 1, 1, 1, 1, 1, 1, 1, 1, 1, 1, 1, 1, 1, 1, 1, 1, 1, 1, 1, 1, 1,\n",
       "       1, 2, 2, 2, 2, 2, 2, 2, 2, 2, 2, 2, 2, 2, 2, 2, 2, 2, 3, 3, 3, 3,\n",
       "       3, 3, 3, 3, 3, 3, 3, 3, 3, 3, 3, 3, 3, 3, 3, 3, 4, 4, 4, 4, 4, 4,\n",
       "       4, 2, 4, 4, 4, 4, 4, 4, 4, 4, 4, 4, 4, 4], dtype=int8)"
      ]
     },
     "execution_count": 57,
     "metadata": {},
     "output_type": "execute_result"
    }
   ],
   "source": [
    "y_coords2"
   ]
  },
  {
   "cell_type": "code",
   "execution_count": 58,
   "metadata": {},
   "outputs": [],
   "source": [
    "re_labels_ = k_means.labels_\n",
    "\n",
    "for i in range(y_coords.shape[0]):\n",
    "    if re_labels_[i] == 3:\n",
    "        re_labels_[i] = 0\n",
    "    elif re_labels_[i] == 0:\n",
    "        re_labels_[i] = 1\n",
    "    elif re_labels_[i] == 2:\n",
    "        re_labels_[i] = 2\n",
    "    elif re_labels_[i] == 1:\n",
    "        re_labels_[i] = 3\n",
    "    else:\n",
    "        re_labels_[i] = 4"
   ]
  },
  {
   "cell_type": "code",
   "execution_count": 59,
   "metadata": {},
   "outputs": [
    {
     "data": {
      "text/plain": [
       "array([3, 0, 0, 0, 0, 0, 0, 0, 0, 0, 0, 1, 1, 1, 1, 1, 1, 1, 1, 1, 1, 1,\n",
       "       1, 1, 1, 1, 1, 1, 1, 1, 1, 1, 1, 1, 1, 1, 1, 1, 1, 1, 1, 1, 1, 1,\n",
       "       1, 2, 2, 2, 2, 2, 2, 2, 2, 2, 2, 2, 2, 2, 2, 2, 2, 2, 3, 3, 3, 3,\n",
       "       3, 3, 3, 3, 3, 3, 3, 3, 3, 3, 3, 3, 3, 3, 3, 3, 4, 4, 4, 4, 4, 4,\n",
       "       4, 2, 4, 4, 4, 4, 4, 4, 4, 4, 4, 4, 4, 4])"
      ]
     },
     "execution_count": 59,
     "metadata": {},
     "output_type": "execute_result"
    }
   ],
   "source": [
    "re_labels_"
   ]
  },
  {
   "cell_type": "code",
   "execution_count": 60,
   "metadata": {},
   "outputs": [
    {
     "name": "stdout",
     "output_type": "stream",
     "text": [
      "              precision    recall  f1-score   support\n",
      "\n",
      "     Gorilla       1.00      0.91      0.95        11\n",
      "        Homo       1.00      1.00      1.00        34\n",
      "   Hylobates       1.00      1.00      1.00        18\n",
      "         Pan       0.95      1.00      0.98        20\n",
      "       Pongo       1.00      1.00      1.00        19\n",
      "\n",
      "    accuracy                           0.99       102\n",
      "   macro avg       0.99      0.98      0.99       102\n",
      "weighted avg       0.99      0.99      0.99       102\n",
      "\n"
     ]
    }
   ],
   "source": [
    "print(classification_report(y_coords2,\n",
    "                            re_labels_,\n",
    "                            target_names=['Gorilla', 'Homo', 'Hylobates', 'Pan', 'Pongo']))"
   ]
  },
  {
   "cell_type": "code",
   "execution_count": 61,
   "metadata": {},
   "outputs": [
    {
     "data": {
      "text/plain": [
       "(0.9906629318394025, 0.9901960784313726, 0.9900822117464871, None)"
      ]
     },
     "execution_count": 61,
     "metadata": {},
     "output_type": "execute_result"
    }
   ],
   "source": [
    "precision_recall_fscore_support(y_coords2, re_labels_, average='weighted')"
   ]
  },
  {
   "cell_type": "code",
   "execution_count": 62,
   "metadata": {},
   "outputs": [
    {
     "data": {
      "text/plain": [
       "array([3, 3, 0, 0, 3, 3, 3, 3, 3, 3, 3, 4, 4, 4, 4, 4, 4, 4, 4, 4, 4, 4,\n",
       "       4, 4, 4, 4, 4, 4, 4, 4, 4, 4, 4, 4, 4, 4, 4, 4, 4, 4, 4, 4, 4, 4,\n",
       "       4, 2, 2, 2, 2, 2, 2, 2, 2, 2, 2, 2, 2, 2, 2, 2, 2, 2, 2, 0, 0, 3,\n",
       "       0, 0, 0, 0, 0, 3, 0, 0, 3, 0, 0, 0, 0, 0, 0, 0, 0, 1, 4, 1, 1, 1,\n",
       "       1, 1, 1, 1, 1, 1, 1, 0, 1, 3, 4, 3, 0, 1])"
      ]
     },
     "execution_count": 62,
     "metadata": {},
     "output_type": "execute_result"
    }
   ],
   "source": [
    "k_means = KMeans(n_clusters=5, random_state=0)\n",
    "model_auto = k_means.fit(X_auto[:, :64], y_auto)\n",
    "k_means.labels_"
   ]
  },
  {
   "cell_type": "code",
   "execution_count": 63,
   "metadata": {},
   "outputs": [
    {
     "data": {
      "text/plain": [
       "array([0, 0, 0, 0, 0, 0, 0, 0, 0, 0, 0, 1, 1, 1, 1, 1, 1, 1, 1, 1, 1, 1,\n",
       "       1, 1, 1, 1, 1, 1, 1, 1, 1, 1, 1, 1, 1, 1, 1, 1, 1, 1, 1, 1, 1, 1,\n",
       "       1, 2, 2, 2, 2, 2, 2, 2, 2, 2, 2, 2, 2, 2, 2, 2, 2, 2, 2, 3, 3, 3,\n",
       "       3, 3, 3, 3, 3, 3, 3, 3, 3, 3, 3, 3, 3, 3, 3, 3, 3, 4, 4, 4, 4, 4,\n",
       "       4, 4, 4, 4, 4, 4, 4, 4, 4, 4, 4, 4, 4, 4], dtype=int8)"
      ]
     },
     "execution_count": 63,
     "metadata": {},
     "output_type": "execute_result"
    }
   ],
   "source": [
    "y_auto"
   ]
  },
  {
   "cell_type": "code",
   "execution_count": 64,
   "metadata": {},
   "outputs": [],
   "source": [
    "re_labels_ = copy.deepcopy(k_means.labels_)\n",
    "\n",
    "for i in range(y_auto.shape[0]):\n",
    "    if re_labels_[i] == 0:\n",
    "        re_labels_[i] = 3\n",
    "    elif re_labels_[i] == 1:\n",
    "        re_labels_[i] = 4\n",
    "    elif re_labels_[i] == 2:\n",
    "        re_labels_[i] = 2\n",
    "    elif re_labels_[i] == 3:\n",
    "        re_labels_[i] = 0\n",
    "    else:\n",
    "        re_labels_[i] = 1"
   ]
  },
  {
   "cell_type": "code",
   "execution_count": 65,
   "metadata": {},
   "outputs": [
    {
     "data": {
      "text/plain": [
       "array([0, 0, 3, 3, 0, 0, 0, 0, 0, 0, 0, 1, 1, 1, 1, 1, 1, 1, 1, 1, 1, 1,\n",
       "       1, 1, 1, 1, 1, 1, 1, 1, 1, 1, 1, 1, 1, 1, 1, 1, 1, 1, 1, 1, 1, 1,\n",
       "       1, 2, 2, 2, 2, 2, 2, 2, 2, 2, 2, 2, 2, 2, 2, 2, 2, 2, 2, 3, 3, 0,\n",
       "       3, 3, 3, 3, 3, 0, 3, 3, 0, 3, 3, 3, 3, 3, 3, 3, 3, 4, 1, 4, 4, 4,\n",
       "       4, 4, 4, 4, 4, 4, 4, 3, 4, 0, 1, 0, 3, 4])"
      ]
     },
     "execution_count": 65,
     "metadata": {},
     "output_type": "execute_result"
    }
   ],
   "source": [
    "re_labels_"
   ]
  },
  {
   "cell_type": "code",
   "execution_count": 66,
   "metadata": {},
   "outputs": [
    {
     "name": "stdout",
     "output_type": "stream",
     "text": [
      "              precision    recall  f1-score   support\n",
      "\n",
      "     Gorilla       0.64      0.82      0.72        11\n",
      "        Homo       0.94      1.00      0.97        34\n",
      "   Hylobates       1.00      1.00      1.00        18\n",
      "         Pan       0.81      0.85      0.83        20\n",
      "       Pongo       1.00      0.68      0.81        19\n",
      "\n",
      "    accuracy                           0.89       102\n",
      "   macro avg       0.88      0.87      0.87       102\n",
      "weighted avg       0.91      0.89      0.89       102\n",
      "\n"
     ]
    }
   ],
   "source": [
    "print(classification_report(y_auto,\n",
    "                            re_labels_,\n",
    "                            target_names=['Gorilla', 'Homo', 'Hylobates', 'Pan', 'Pongo']))"
   ]
  },
  {
   "cell_type": "code",
   "execution_count": 69,
   "metadata": {},
   "outputs": [
    {
     "data": {
      "text/plain": [
       "(0.9056178026766262, 0.8921568627450981, 0.8918768361002938, None)"
      ]
     },
     "execution_count": 69,
     "metadata": {},
     "output_type": "execute_result"
    }
   ],
   "source": [
    "precision_recall_fscore_support(y_auto, re_labels_, average='weighted')"
   ]
  },
  {
   "cell_type": "code",
   "execution_count": 75,
   "metadata": {},
   "outputs": [
    {
     "data": {
      "text/plain": [
       "array([2, 2, 2, 2, 2, 2, 1, 1, 1, 1, 2, 4, 4, 4, 4, 4, 4, 4, 4, 4, 4, 4,\n",
       "       4, 0, 4, 4, 4, 4, 4, 4, 4, 4, 4, 4, 4, 4, 4, 4, 4, 4, 4, 4, 4, 4,\n",
       "       4, 0, 0, 0, 0, 0, 0, 0, 0, 0, 0, 0, 0, 0, 0, 0, 0, 0, 3, 1, 1, 1,\n",
       "       1, 1, 1, 1, 1, 1, 1, 1, 1, 1, 1, 1, 1, 1, 1, 1, 1, 3, 3, 3, 3, 3,\n",
       "       3, 3, 3, 3, 3, 3, 3, 3, 3, 3, 0, 2, 3, 3])"
      ]
     },
     "execution_count": 75,
     "metadata": {},
     "output_type": "execute_result"
    }
   ],
   "source": [
    "k_means = KMeans(n_clusters=5, random_state=0)\n",
    "model_coords = k_means.fit(X_area[:,:60], y_area)\n",
    "k_means.labels_"
   ]
  },
  {
   "cell_type": "code",
   "execution_count": 76,
   "metadata": {},
   "outputs": [
    {
     "data": {
      "text/plain": [
       "array([0, 0, 0, 0, 0, 0, 0, 0, 0, 0, 0, 1, 1, 1, 1, 1, 1, 1, 1, 1, 1, 1,\n",
       "       1, 1, 1, 1, 1, 1, 1, 1, 1, 1, 1, 1, 1, 1, 1, 1, 1, 1, 1, 1, 1, 1,\n",
       "       1, 2, 2, 2, 2, 2, 2, 2, 2, 2, 2, 2, 2, 2, 2, 2, 2, 2, 2, 3, 3, 3,\n",
       "       3, 3, 3, 3, 3, 3, 3, 3, 3, 3, 3, 3, 3, 3, 3, 3, 3, 4, 4, 4, 4, 4,\n",
       "       4, 4, 4, 4, 4, 4, 4, 4, 4, 4, 4, 4, 4, 4], dtype=int8)"
      ]
     },
     "execution_count": 76,
     "metadata": {},
     "output_type": "execute_result"
    }
   ],
   "source": [
    "y_area"
   ]
  },
  {
   "cell_type": "code",
   "execution_count": 77,
   "metadata": {},
   "outputs": [],
   "source": [
    "re_labels_ = copy.deepcopy(k_means.labels_)\n",
    "\n",
    "for i in range(y_auto.shape[0]):\n",
    "    if re_labels_[i] == 0:\n",
    "        re_labels_[i] = 2\n",
    "    elif re_labels_[i] == 1:\n",
    "        re_labels_[i] = 3\n",
    "    elif re_labels_[i] == 2:\n",
    "        re_labels_[i] = 0\n",
    "    elif re_labels_[i] == 3:\n",
    "        re_labels_[i] = 4\n",
    "    else:\n",
    "        re_labels_[i] = 1"
   ]
  },
  {
   "cell_type": "code",
   "execution_count": 78,
   "metadata": {},
   "outputs": [
    {
     "data": {
      "text/plain": [
       "array([0, 0, 0, 0, 0, 0, 3, 3, 3, 3, 0, 1, 1, 1, 1, 1, 1, 1, 1, 1, 1, 1,\n",
       "       1, 2, 1, 1, 1, 1, 1, 1, 1, 1, 1, 1, 1, 1, 1, 1, 1, 1, 1, 1, 1, 1,\n",
       "       1, 2, 2, 2, 2, 2, 2, 2, 2, 2, 2, 2, 2, 2, 2, 2, 2, 2, 4, 3, 3, 3,\n",
       "       3, 3, 3, 3, 3, 3, 3, 3, 3, 3, 3, 3, 3, 3, 3, 3, 3, 4, 4, 4, 4, 4,\n",
       "       4, 4, 4, 4, 4, 4, 4, 4, 4, 4, 2, 0, 4, 4])"
      ]
     },
     "execution_count": 78,
     "metadata": {},
     "output_type": "execute_result"
    }
   ],
   "source": [
    "re_labels_"
   ]
  },
  {
   "cell_type": "code",
   "execution_count": 79,
   "metadata": {},
   "outputs": [
    {
     "name": "stdout",
     "output_type": "stream",
     "text": [
      "              precision    recall  f1-score   support\n",
      "\n",
      "     Gorilla       0.88      0.64      0.74        11\n",
      "        Homo       1.00      0.97      0.99        34\n",
      "   Hylobates       0.89      0.94      0.92        18\n",
      "         Pan       0.83      1.00      0.91        20\n",
      "       Pongo       0.94      0.89      0.92        19\n",
      "\n",
      "    accuracy                           0.92       102\n",
      "   macro avg       0.91      0.89      0.89       102\n",
      "weighted avg       0.92      0.92      0.92       102\n",
      "\n"
     ]
    }
   ],
   "source": [
    "print(classification_report(y_area,\n",
    "                            re_labels_,\n",
    "                            target_names=['Gorilla', 'Homo', 'Hylobates', 'Pan', 'Pongo']))"
   ]
  },
  {
   "cell_type": "code",
   "execution_count": 80,
   "metadata": {},
   "outputs": [
    {
     "data": {
      "text/plain": [
       "(0.9249154340098613, 0.9215686274509803, 0.9194080260112328, None)"
      ]
     },
     "execution_count": 80,
     "metadata": {},
     "output_type": "execute_result"
    }
   ],
   "source": [
    "precision_recall_fscore_support(y_area, re_labels_, average='weighted')"
   ]
  },
  {
   "cell_type": "code",
   "execution_count": 86,
   "metadata": {},
   "outputs": [
    {
     "data": {
      "text/plain": [
       "array([2, 2, 2, 2, 2, 2, 0, 2, 2, 0, 2, 4, 4, 4, 4, 4, 4, 4, 4, 4, 4, 4,\n",
       "       4, 0, 4, 4, 4, 4, 4, 4, 4, 4, 4, 4, 4, 4, 4, 4, 4, 4, 4, 4, 4, 4,\n",
       "       4, 3, 3, 3, 3, 3, 3, 3, 3, 3, 3, 3, 3, 3, 3, 3, 3, 3, 1, 0, 0, 0,\n",
       "       0, 0, 0, 0, 0, 0, 0, 0, 0, 0, 0, 0, 0, 0, 0, 0, 0, 1, 1, 1, 1, 1,\n",
       "       1, 1, 1, 1, 1, 1, 1, 1, 1, 1, 3, 1, 1, 1])"
      ]
     },
     "execution_count": 86,
     "metadata": {},
     "output_type": "execute_result"
    }
   ],
   "source": [
    "k_means = KMeans(n_clusters=5, random_state=0)\n",
    "model_coords = k_means.fit(X_conf[:,:59], y_area)\n",
    "k_means.labels_"
   ]
  },
  {
   "cell_type": "code",
   "execution_count": 87,
   "metadata": {},
   "outputs": [
    {
     "data": {
      "text/plain": [
       "array([0, 0, 0, 0, 0, 0, 0, 0, 0, 0, 0, 1, 1, 1, 1, 1, 1, 1, 1, 1, 1, 1,\n",
       "       1, 1, 1, 1, 1, 1, 1, 1, 1, 1, 1, 1, 1, 1, 1, 1, 1, 1, 1, 1, 1, 1,\n",
       "       1, 2, 2, 2, 2, 2, 2, 2, 2, 2, 2, 2, 2, 2, 2, 2, 2, 2, 2, 3, 3, 3,\n",
       "       3, 3, 3, 3, 3, 3, 3, 3, 3, 3, 3, 3, 3, 3, 3, 3, 3, 4, 4, 4, 4, 4,\n",
       "       4, 4, 4, 4, 4, 4, 4, 4, 4, 4, 4, 4, 4, 4], dtype=int8)"
      ]
     },
     "execution_count": 87,
     "metadata": {},
     "output_type": "execute_result"
    }
   ],
   "source": [
    "y_conf"
   ]
  },
  {
   "cell_type": "code",
   "execution_count": 88,
   "metadata": {},
   "outputs": [],
   "source": [
    "re_labels_ = copy.deepcopy(k_means.labels_)\n",
    "\n",
    "for i in range(y_auto.shape[0]):\n",
    "    if re_labels_[i] == 0:\n",
    "        re_labels_[i] = 3\n",
    "    elif re_labels_[i] == 1:\n",
    "        re_labels_[i] = 4\n",
    "    elif re_labels_[i] == 2:\n",
    "        re_labels_[i] = 0\n",
    "    elif re_labels_[i] == 3:\n",
    "        re_labels_[i] = 2\n",
    "    else:\n",
    "        re_labels_[i] = 1"
   ]
  },
  {
   "cell_type": "code",
   "execution_count": 89,
   "metadata": {},
   "outputs": [
    {
     "data": {
      "text/plain": [
       "array([0, 0, 0, 0, 0, 0, 3, 0, 0, 3, 0, 1, 1, 1, 1, 1, 1, 1, 1, 1, 1, 1,\n",
       "       1, 3, 1, 1, 1, 1, 1, 1, 1, 1, 1, 1, 1, 1, 1, 1, 1, 1, 1, 1, 1, 1,\n",
       "       1, 2, 2, 2, 2, 2, 2, 2, 2, 2, 2, 2, 2, 2, 2, 2, 2, 2, 4, 3, 3, 3,\n",
       "       3, 3, 3, 3, 3, 3, 3, 3, 3, 3, 3, 3, 3, 3, 3, 3, 3, 4, 4, 4, 4, 4,\n",
       "       4, 4, 4, 4, 4, 4, 4, 4, 4, 4, 2, 4, 4, 4])"
      ]
     },
     "execution_count": 89,
     "metadata": {},
     "output_type": "execute_result"
    }
   ],
   "source": [
    "re_labels_"
   ]
  },
  {
   "cell_type": "code",
   "execution_count": 90,
   "metadata": {},
   "outputs": [
    {
     "name": "stdout",
     "output_type": "stream",
     "text": [
      "              precision    recall  f1-score   support\n",
      "\n",
      "     Gorilla       1.00      0.82      0.90        11\n",
      "        Homo       1.00      0.97      0.99        34\n",
      "   Hylobates       0.94      0.94      0.94        18\n",
      "         Pan       0.87      1.00      0.93        20\n",
      "       Pongo       0.95      0.95      0.95        19\n",
      "\n",
      "    accuracy                           0.95       102\n",
      "   macro avg       0.95      0.94      0.94       102\n",
      "weighted avg       0.95      0.95      0.95       102\n",
      "\n"
     ]
    }
   ],
   "source": [
    "print(classification_report(y_conf,\n",
    "                            re_labels_,\n",
    "                            target_names=['Gorilla', 'Homo', 'Hylobates', 'Pan', 'Pongo']))"
   ]
  },
  {
   "cell_type": "code",
   "execution_count": 91,
   "metadata": {},
   "outputs": [
    {
     "data": {
      "text/plain": [
       "(0.9548167092924127, 0.9509803921568627, 0.9509528281982699, None)"
      ]
     },
     "execution_count": 91,
     "metadata": {},
     "output_type": "execute_result"
    }
   ],
   "source": [
    "precision_recall_fscore_support(y_conf, re_labels_, average='weighted')"
   ]
  },
  {
   "cell_type": "code",
   "execution_count": 93,
   "metadata": {},
   "outputs": [
    {
     "data": {
      "text/plain": [
       "array([1, 1, 2, 0, 1, 1, 1, 1, 1, 0, 1, 2, 2, 2, 2, 2, 2, 2, 2, 2, 2, 2,\n",
       "       2, 0, 2, 2, 2, 2, 2, 2, 2, 2, 2, 2, 2, 2, 2, 2, 2, 2, 2, 2, 2, 2,\n",
       "       2, 4, 4, 4, 4, 4, 4, 4, 4, 4, 4, 4, 4, 4, 4, 4, 4, 4, 3, 0, 0, 0,\n",
       "       0, 0, 0, 0, 0, 0, 0, 0, 0, 0, 0, 0, 0, 0, 0, 0, 0, 3, 3, 3, 3, 3,\n",
       "       3, 3, 3, 3, 3, 3, 3, 3, 3, 3, 4, 0, 3, 3])"
      ]
     },
     "execution_count": 93,
     "metadata": {},
     "output_type": "execute_result"
    }
   ],
   "source": [
    "k_means = KMeans(n_clusters=5, random_state=0)\n",
    "model_coords = k_means.fit(X_conf_area[:,:64], y_conf_area)\n",
    "k_means.labels_"
   ]
  },
  {
   "cell_type": "code",
   "execution_count": 94,
   "metadata": {},
   "outputs": [
    {
     "data": {
      "text/plain": [
       "array([0, 0, 0, 0, 0, 0, 0, 0, 0, 0, 0, 1, 1, 1, 1, 1, 1, 1, 1, 1, 1, 1,\n",
       "       1, 1, 1, 1, 1, 1, 1, 1, 1, 1, 1, 1, 1, 1, 1, 1, 1, 1, 1, 1, 1, 1,\n",
       "       1, 2, 2, 2, 2, 2, 2, 2, 2, 2, 2, 2, 2, 2, 2, 2, 2, 2, 2, 3, 3, 3,\n",
       "       3, 3, 3, 3, 3, 3, 3, 3, 3, 3, 3, 3, 3, 3, 3, 3, 3, 4, 4, 4, 4, 4,\n",
       "       4, 4, 4, 4, 4, 4, 4, 4, 4, 4, 4, 4, 4, 4], dtype=int8)"
      ]
     },
     "execution_count": 94,
     "metadata": {},
     "output_type": "execute_result"
    }
   ],
   "source": [
    "y_conf_area"
   ]
  },
  {
   "cell_type": "code",
   "execution_count": 95,
   "metadata": {},
   "outputs": [],
   "source": [
    "re_labels_ = copy.deepcopy(k_means.labels_)\n",
    "\n",
    "for i in range(y_auto.shape[0]):\n",
    "    if re_labels_[i] == 0:\n",
    "        re_labels_[i] = 3\n",
    "    elif re_labels_[i] == 1:\n",
    "        re_labels_[i] = 0\n",
    "    elif re_labels_[i] == 2:\n",
    "        re_labels_[i] = 1\n",
    "    elif re_labels_[i] == 3:\n",
    "        re_labels_[i] = 4\n",
    "    else:\n",
    "        re_labels_[i] = 2"
   ]
  },
  {
   "cell_type": "code",
   "execution_count": 96,
   "metadata": {},
   "outputs": [
    {
     "name": "stdout",
     "output_type": "stream",
     "text": [
      "              precision    recall  f1-score   support\n",
      "\n",
      "     Gorilla       1.00      0.73      0.84        11\n",
      "        Homo       0.97      0.97      0.97        34\n",
      "   Hylobates       0.94      0.94      0.94        18\n",
      "         Pan       0.83      1.00      0.91        20\n",
      "       Pongo       0.94      0.89      0.92        19\n",
      "\n",
      "    accuracy                           0.93       102\n",
      "   macro avg       0.94      0.91      0.92       102\n",
      "weighted avg       0.94      0.93      0.93       102\n",
      "\n"
     ]
    }
   ],
   "source": [
    "print(classification_report(y_conf_area,\n",
    "                            re_labels_,\n",
    "                            target_names=['Gorilla', 'Homo', 'Hylobates', 'Pan', 'Pongo']))"
   ]
  },
  {
   "cell_type": "code",
   "execution_count": 97,
   "metadata": {},
   "outputs": [
    {
     "data": {
      "text/plain": [
       "(0.937363834422658, 0.9313725490196079, 0.9304356425099459, None)"
      ]
     },
     "execution_count": 97,
     "metadata": {},
     "output_type": "execute_result"
    }
   ],
   "source": [
    "precision_recall_fscore_support(y_conf_area, re_labels_, average='weighted')"
   ]
  },
  {
   "cell_type": "code",
   "execution_count": null,
   "metadata": {},
   "outputs": [],
   "source": []
  }
 ],
 "metadata": {
  "kernelspec": {
   "display_name": "Python (shape_matching)",
   "language": "python",
   "name": "shape_matching"
  },
  "language_info": {
   "codemirror_mode": {
    "name": "ipython",
    "version": 3
   },
   "file_extension": ".py",
   "mimetype": "text/x-python",
   "name": "python",
   "nbconvert_exporter": "python",
   "pygments_lexer": "ipython3",
   "version": "3.7.12"
  }
 },
 "nbformat": 4,
 "nbformat_minor": 2
}
